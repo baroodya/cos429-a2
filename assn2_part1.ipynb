{
 "cells": [
  {
   "cell_type": "markdown",
   "metadata": {},
   "source": [
    "# Assignment 2"
   ]
  },
  {
   "cell_type": "markdown",
   "metadata": {},
   "source": [
    "# Part 1: Image segmentation\n",
    "\n",
    "## Question 1: Color clustering with K-means (15 points)\n",
    "\n",
    "Image segmentation is the process of partitioning an image into various regions of pixels that are more meaningful and easier to understand/analyze. It is often used to specify boundaries and separate the most important object(s) from the rest. One way to segment images is to use K-means clustering to cluster image regions with similar colors. Remember that K-means clustering is an unsupervised algorithm that partitions the given data into K clusters based on some definition of similarity.\n",
    "\n",
    "**Do this**:\n",
    "\n",
    "1-a. Implement the K-means clustering algorithm in `kmeans.py`. (10 points)\n",
    "\n",
    "1-b. Experiment with different values of K. Discuss which value of K seems to be the best for each of the test images. (5 points)"
   ]
  },
  {
   "cell_type": "code",
   "execution_count": null,
   "metadata": {},
   "outputs": [],
   "source": [
    "import cv2, pickle\n",
    "import matplotlib.pyplot as plt\n",
    "import numpy as np"
   ]
  },
  {
   "cell_type": "code",
   "execution_count": null,
   "metadata": {},
   "outputs": [],
   "source": [
    "# Here are images you will use to check your implementation.\n",
    "filenames = ['cat.jpeg', 'dog.jpeg',  'nature.jpeg', 'nyc.jpeg', 'princeton.jpeg']\n",
    "\n",
    "plt.figure(figsize=(4*len(filenames), 5))\n",
    "for i in range(len(filenames)):\n",
    "    img = cv2.imread(filenames[i])\n",
    "    img = cv2.cvtColor(img, cv2.COLOR_BGR2RGB)\n",
    "    height, width, nchannel = img.shape\n",
    "    scale = 500/max(height, width) # The longer side will be resized to 500\n",
    "    img = cv2.resize(img, (int(width*scale), int(height*scale)))\n",
    "    plt.subplot(1, len(filenames), i+1)\n",
    "    plt.imshow(img); plt.axis('off')\n",
    "plt.show()"
   ]
  },
  {
   "cell_type": "markdown",
   "metadata": {},
   "source": [
    "### 1-a. Implement the K-means clustering algorithm in `kmeans.py` (10 points)\n",
    "\n",
    "After implementing the K-means clustering algorithm in `kmeans.py`, use the below code to segment a given image into regions with similar colors."
   ]
  },
  {
   "cell_type": "code",
   "execution_count": null,
   "metadata": {},
   "outputs": [],
   "source": [
    "# Import your implementation\n",
    "from kmeans import kmeans"
   ]
  },
  {
   "cell_type": "code",
   "execution_count": null,
   "metadata": {},
   "outputs": [],
   "source": [
    "def run_kmeans(K, niter, filename):\n",
    "    \n",
    "    # Load and transform an image\n",
    "    img = cv2.imread(filename)\n",
    "    img = cv2.cvtColor(img, cv2.COLOR_BGR2RGB)\n",
    "    height, width, nchannel = img.shape\n",
    "    scale = 500/max(height, width) # The longer side will be resized to 500\n",
    "    img = cv2.resize(img, (int(width*scale), int(height*scale)))\n",
    "\n",
    "    # Vectorize the image\n",
    "    x = img.reshape((-1, 3)).astype(np.float32)\n",
    "\n",
    "    # Run K-means clustering\n",
    "    labels, centroids = kmeans(x, K, niter)\n",
    "    \n",
    "    # Produce the resulting image segmentation. \n",
    "    centroids = np.uint8(centroids)\n",
    "    labels = np.int8(labels)\n",
    "    result = centroids[labels.flatten()]\n",
    "    result_image = result.reshape((img.shape))\n",
    "\n",
    "    # Visualize the original image and the segmentation.\n",
    "    plt.figure(figsize=(10, 10))\n",
    "    plt.subplot(1,2,1)\n",
    "    plt.imshow(img); plt.title('Original Image'); plt.axis('off')\n",
    "    plt.subplot(1,2,2)\n",
    "    plt.imshow(result_image); plt.title('Segmented Image (K={})'.format(K)); plt.axis('off')\n",
    "    plt.show()"
   ]
  },
  {
   "cell_type": "code",
   "execution_count": null,
   "metadata": {},
   "outputs": [],
   "source": [
    "# Define the arguments\n",
    "K = 5\n",
    "niter = 20\n",
    "filename = 'example.jpeg'\n",
    "\n",
    "# Run K-means\n",
    "run_kmeans(K, niter, filename)"
   ]
  },
  {
   "cell_type": "markdown",
   "metadata": {},
   "source": [
    "### b) Experiment with different values of K. Discuss which value of K seems to be the best for each of the test images. (5 points)"
   ]
  },
  {
   "cell_type": "code",
   "execution_count": null,
   "metadata": {
    "scrolled": false
   },
   "outputs": [],
   "source": [
    "# Define the arguments\n",
    "K = 3\n",
    "niter = 20\n",
    "\n",
    "# Run K-means\n",
    "for i in range(len(filenames)):\n",
    "    run_kmeans(K, niter, filenames[i])"
   ]
  },
  {
   "cell_type": "code",
   "execution_count": null,
   "metadata": {},
   "outputs": [],
   "source": []
  }
 ],
 "metadata": {
  "kernelspec": {
   "display_name": "Python 3",
   "language": "python",
   "name": "python3"
  },
  "language_info": {
   "codemirror_mode": {
    "name": "ipython",
    "version": 3
   },
   "file_extension": ".py",
   "mimetype": "text/x-python",
   "name": "python",
   "nbconvert_exporter": "python",
   "pygments_lexer": "ipython3",
   "version": "3.8.5"
  }
 },
 "nbformat": 4,
 "nbformat_minor": 5
}
